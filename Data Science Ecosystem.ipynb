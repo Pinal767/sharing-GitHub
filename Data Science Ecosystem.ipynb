{
 "cells": [
  {
   "cell_type": "markdown",
   "id": "c6c59756-c535-4f0d-9d74-13dece3c15c8",
   "metadata": {},
   "source": [
    "# 1.Data Science Tools and Ecosystem"
   ]
  },
  {
   "cell_type": "markdown",
   "id": "28d47b59-b12b-4cf6-8dc1-93f6c839350b",
   "metadata": {},
   "source": [
    "In this notebook, Data Science Tools and Ecosystem are summarized."
   ]
  },
  {
   "cell_type": "markdown",
   "id": "16ed93be-3961-498e-afe0-2e1829f5b796",
   "metadata": {},
   "source": [
    "Pinal shah"
   ]
  },
  {
   "cell_type": "markdown",
   "id": "0b1c46bc-4cfe-4576-afbd-5128d98133c6",
   "metadata": {},
   "source": [
    "9/15/2023"
   ]
  },
  {
   "cell_type": "markdown",
   "id": "5b2604fc-594a-4263-9e8d-15589301c8fa",
   "metadata": {},
   "source": [
    "## Markdown Exercises"
   ]
  },
  {
   "cell_type": "markdown",
   "id": "54d1914b-a185-468c-a843-a98470428679",
   "metadata": {},
   "source": [
    "# H1\n",
    "## H2\n",
    "### H3\n",
    "#### H4\n",
    "##### H5\n",
    "###### H6"
   ]
  },
  {
   "cell_type": "markdown",
   "id": "4be8b64f-865d-46f7-85cd-56783972df75",
   "metadata": {},
   "source": [
    "Alt-H1\n",
    "Alt-H2"
   ]
  },
  {
   "cell_type": "markdown",
   "id": "a678075d-8e1e-4303-8e01-a3ddd4d8d58a",
   "metadata": {},
   "source": [
    "Emphasis, aka italics, with *asterisks* or _underscores_.\n",
    "\n",
    "Strong emphasis, aka bold, with **asterisks** or __underscores__.\n",
    "\n",
    "Combined emphasis with **asterisks and _underscores_**."
   ]
  },
  {
   "cell_type": "markdown",
   "id": "0c302435-b346-4fc3-a7ce-b61b5fbb092f",
   "metadata": {},
   "source": [
    "1. First ordered list item\n",
    "2. Another item\n",
    "⋅⋅* Unordered sub-list. \n",
    "1. Actual numbers don't matter, just that it's a number\n",
    "⋅⋅1. Ordered sub-list\n",
    "4. And another item.\n",
    "\n",
    "⋅⋅⋅You can have properly indented paragraphs within list items. Notice the blank line above, and the leading spaces (at least one, but we'll use three here to also align the raw Markdown).\n",
    "\n",
    "⋅⋅⋅To have a line break without a paragraph, you will need to use two trailing spaces.⋅⋅\n",
    "⋅⋅⋅Note that this line is separate, but within the same paragraph.⋅⋅\n",
    "⋅⋅⋅(This is contrary to the typical GFM line break behaviour, where trailing spaces are not required.)\n",
    "\n",
    "* Unordered list can use asterisks\n",
    "- Or minuses\n",
    "+ Or pluses"
   ]
  },
  {
   "cell_type": "markdown",
   "id": "217c4653-3d16-4fc6-af18-ecaa901edd78",
   "metadata": {},
   "source": [
    "Here's our logo (hover to see the title text):\n",
    "\n",
    "Inline-style: \n",
    "![alt text](https://avatars.githubusercontent.com/u/131824460?v=4.png \"Logo Title Text 1\")\n",
    "\n",
    "Reference-style: \n",
    "![alt text][logo]\n",
    "\n",
    "[logo]: https://https://avatars.githubusercontent.com/u/131824460?v=4.png \"Logo Title Text 2\""
   ]
  },
  {
   "cell_type": "markdown",
   "id": "0bcded81-6cda-43b0-8e84-314c2e765bbe",
   "metadata": {
    "tags": []
   },
   "source": [
    "##  Some of the popular languages that Data Scientists use are:"
   ]
  },
  {
   "cell_type": "markdown",
   "id": "39134bcf-7af5-4fa5-b9da-22b673310610",
   "metadata": {},
   "source": [
    "### Order list"
   ]
  },
  {
   "cell_type": "markdown",
   "id": "29c9cede-264d-47c3-9ebf-fa70eec95713",
   "metadata": {},
   "source": [
    "List Data Science Languages :\n",
    "Python\n",
    "R\n",
    "SQL\n",
    "Julia\n",
    "Scala\n",
    "Java\n",
    "MATLAB\n",
    "\n",
    "\n",
    "Python : Python is the most popular and widely used language in data science. It provides a vast ecosystem of libraries, such as NumPy, pandas, scikit-learn, TensorFlow, and PyTorch, which make data manipulation, analysis, and machine learning tasks efficient and straightforward.\n",
    "\n",
    "R : R is specifically designed for statistical computing and data analysis. It has a rich set of packages for data visualization, statistical modeling, and data exploration, making it a powerful choice for data analysis tasks.\n",
    "\n",
    "SQL : SQL is essential for working with relational databases. Data scientists often use SQL to query, manipulate, and retrieve data from databases, especially when dealing with large datasets.\n",
    "\n",
    "Julia : Julia is a high-level, high-performance language for technical computing. It is gaining popularity in the data science community due to its speed and ease of use, especially for numerical computations and machine learning.\n",
    "\n",
    "Scala : Scala is commonly used in big data processing frameworks like Apache Spark. It combines object-oriented and functional programming paradigms and is chosen for its scalability and compatibility with Java.\n",
    "\n",
    "Java : Java is widely used in enterprise applications and big data ecosystems like Apache Hadoop. While it might not be as popular as Python or R for data science-specific tasks, it is essential in some data engineering and distributed computing scenarios.\n",
    "\n",
    "MATLAB : MATLAB is widely used in engineering and scientific fields. It provides a robust environment for numerical computing, data analysis, and visualization.\n"
   ]
  },
  {
   "cell_type": "markdown",
   "id": "7f447fd7-5b23-456b-b36c-52862e60224c",
   "metadata": {},
   "source": [
    "## Some of the commonly used libraries used by Data Scientists include:"
   ]
  },
  {
   "cell_type": "markdown",
   "id": "d8e779a1-017e-4883-8a99-1a70cfbbea61",
   "metadata": {},
   "source": [
    "Data Science Libraries for Python :\n",
    "\n",
    "Numpy\n",
    "Pandas\n",
    "Metplotlib\n",
    "Scikit-learn\n",
    "Tensorflow\n",
    "PyTorch\n",
    "Seaborn\n",
    "\n",
    "\n",
    "NumPy : NumPy is a fundamental library for numerical computing in Python. It provides support for large, multi-dimensional arrays and matrices, along with a wide range of mathematical functions to operate on these arrays efficiently.\n",
    "\n",
    "pandas : pandas is a powerful library for data manipulation and analysis. It offers data structures like DataFrame and Series, which allow easy handling and manipulation of structured data.\n",
    "\n",
    "Matplotlib : Matplotlib is a widely used library for data visualization in Python. It provides a variety of plotting functions to create various types of charts and graphs.\n",
    "\n",
    "scikit-learn : scikit-learn is a comprehensive machine learning library in Python. It provides a wide range of algorithms for classification, regression, clustering, dimensionality reduction, and more, along with tools for model evaluation and selection.\n",
    "\n",
    "TensorFlow : TensorFlow is an open-source deep learning library developed by Google. It offers a flexible framework for building and training machine learning models, especially deep neural networks.\n",
    "\n",
    "PyTorch : PyTorch is another popular deep learning library, developed by Facebook. It is known for its dynamic computation graph and ease of use, making it a favorite among researchers and deep learning enthusiasts.\n",
    "\n",
    "Seaborn : Seaborn is built on top of Matplotlib and provides a high-level interface for creating attractive and informative statistical graphics."
   ]
  },
  {
   "cell_type": "markdown",
   "id": "febaaf53-3d97-4665-bdad-395a1427c73c",
   "metadata": {},
   "source": [
    "## Data Science Tools"
   ]
  },
  {
   "cell_type": "markdown",
   "id": "7d6ef051-499d-47bd-b644-936b5d6a39f0",
   "metadata": {},
   "source": [
    "|DataScienceTools|\n",
    "|---------------|\n",
    "|Apache Hadoop|\n",
    "|TensorFlow|\n",
    "|Analysis System (SAS)|"
   ]
  },
  {
   "cell_type": "markdown",
   "id": "400400e1-7435-486a-a1c0-7f8485ed09bf",
   "metadata": {},
   "source": [
    "|DataScienceTools|\n",
    "|---------------|\n",
    "### |Apache Hadoop|\n",
    "### |TensorFlow|\n",
    "### |Analysis System (SAS)|"
   ]
  },
  {
   "cell_type": "code",
   "execution_count": 1,
   "id": "153768b8-d19d-44ef-ab85-312c2eeee66b",
   "metadata": {
    "tags": []
   },
   "outputs": [],
   "source": [
    "a = (3 * 4) + 5"
   ]
  },
  {
   "cell_type": "code",
   "execution_count": 2,
   "id": "ab9d9378-ee74-48dc-b9ec-0be35aa9e8a3",
   "metadata": {
    "tags": []
   },
   "outputs": [
    {
     "name": "stdout",
     "output_type": "stream",
     "text": [
      "17\n"
     ]
    }
   ],
   "source": [
    "print(a)"
   ]
  },
  {
   "cell_type": "code",
   "execution_count": 19,
   "id": "a3aed833-412c-4818-999a-f8f68475dad2",
   "metadata": {
    "tags": []
   },
   "outputs": [
    {
     "name": "stdout",
     "output_type": "stream",
     "text": [
      "0:03:20\n"
     ]
    }
   ],
   "source": [
    "def convert(seconds):\n",
    "    seconds = seconds % (24 * 3600)\n",
    "    hour = seconds // 3600\n",
    "    seconds %= 3600\n",
    "    minutes = seconds // 60\n",
    "    seconds %= 60\n",
    "     \n",
    "    return \"%d:%02d:%02d\" % (hour, minutes, seconds)\n",
    "     \n",
    "# Driver program\n",
    "n = 200\n",
    "print(convert(n))"
   ]
  },
  {
   "cell_type": "markdown",
   "id": "0008ddfa-4c42-483b-974c-b03fd4dfe9fc",
   "metadata": {
    "tags": []
   },
   "source": [
    "**List Data Science Languages in Bold text**\n",
    "**Python**\n",
    "**R**\n",
    "**SQL**\n",
    "**Julia**\n",
    "**Scala**\n",
    "**Java**\n",
    "**MATLAB**"
   ]
  },
  {
   "cell_type": "markdown",
   "id": "36080d91-417e-44e9-aed8-62530a20d4d2",
   "metadata": {
    "tags": []
   },
   "source": [
    "<ol>\n",
    "  <li>Python</li>\n",
    "  <li>R</li>\n",
    "  <li>Julia</li>\n",
    "  <li>Java</li>\n",
    "  <li>SQL</li>\n",
    "</ol>"
   ]
  },
  {
   "cell_type": "markdown",
   "id": "fb4f746d-8b76-4363-a20f-4029b9af50c4",
   "metadata": {},
   "source": [
    "- Paython\n",
    " - R\n",
    "  - Julia\n",
    "   - Java\n",
    "     - SQL"
   ]
  },
  {
   "cell_type": "code",
   "execution_count": null,
   "id": "38f7794e-804c-4ba9-976b-ecf6bce215ce",
   "metadata": {},
   "outputs": [],
   "source": []
  }
 ],
 "metadata": {
  "kernelspec": {
   "display_name": "Python",
   "language": "python",
   "name": "conda-env-python-py"
  },
  "language_info": {
   "codemirror_mode": {
    "name": "ipython",
    "version": 3
   },
   "file_extension": ".py",
   "mimetype": "text/x-python",
   "name": "python",
   "nbconvert_exporter": "python",
   "pygments_lexer": "ipython3",
   "version": "3.7.12"
  }
 },
 "nbformat": 4,
 "nbformat_minor": 5
}
